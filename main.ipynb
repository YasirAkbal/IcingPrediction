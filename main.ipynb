{
 "cells": [
  {
   "cell_type": "code",
   "execution_count": 1,
   "id": "c4e82da7",
   "metadata": {},
   "outputs": [],
   "source": [
    "from sklearn.metrics import accuracy_score,precision_score,recall_score,f1_score,r2_score\n",
    "from sklearn.experimental import enable_halving_search_cv\n",
    "from sklearn.model_selection import HalvingGridSearchCV\n",
    "from sklearn.model_selection import GridSearchCV\n",
    "from sklearn.preprocessing import StandardScaler\n",
    "\n",
    "from tensorflow.keras import layers\n",
    "from tensorflow.keras import models\n",
    "from tensorflow.keras import metrics\n",
    "from tensorflow.keras import optimizers\n",
    "import tensorflow as tf\n",
    "\n",
    "from sklearn.model_selection import train_test_split\n",
    "from sklearn.utils import class_weight\n",
    "from sklearn.preprocessing import OneHotEncoder\n",
    "\n",
    "import numpy as np\n",
    "import pandas as pd\n",
    "import seaborn as sn\n",
    "import matplotlib.pyplot as plt\n",
    "from scipy import stats\n",
    "from sklearn.metrics import plot_confusion_matrix\n",
    "from sklearn.metrics import precision_score, recall_score, r2_score\n",
    "\n",
    "from sklearn.linear_model import LogisticRegression\n",
    "from sklearn.tree import DecisionTreeClassifier\n",
    "from sklearn.ensemble import RandomForestClassifier\n",
    "from sklearn.ensemble import GradientBoostingClassifier\n",
    "from sklearn.svm import SVC\n",
    "\n",
    "import lightgbm as lgb\n",
    "import joblib"
   ]
  },
  {
   "cell_type": "code",
   "execution_count": 2,
   "id": "8cedb2a5",
   "metadata": {},
   "outputs": [],
   "source": [
    "import warnings\n",
    "warnings.filterwarnings('ignore')"
   ]
  },
  {
   "cell_type": "markdown",
   "id": "ad600a69",
   "metadata": {},
   "source": [
    "# Test Metodu"
   ]
  },
  {
   "cell_type": "code",
   "execution_count": 3,
   "id": "d74e620c",
   "metadata": {},
   "outputs": [],
   "source": [
    "def predict(input_filename):\n",
    "    data = pd.read_csv(input_filename,sep=\";\",skip_blank_lines=True)\n",
    "    \n",
    "    nan_value = float(\"NaN\")\n",
    "    data.replace(\" \", nan_value, inplace=True)\n",
    "    data.dropna(subset = data.columns, inplace=True)\n",
    "\n",
    "    data.replace(\"///\", nan_value, inplace=True)\n",
    "    data.dropna(subset = data.columns, inplace=True)\n",
    "    \n",
    "    for kolon in [\"Min_Nem\",\"Ort_Nem\"]:\n",
    "        data[kolon] = data[kolon].astype(np.float64)  \n",
    "    \n",
    "    inputs = data.iloc[:,:-1].copy()\n",
    "    outputs = data.iloc[:,-1:].copy()\n",
    "    \n",
    "    inputs[\"hava_fark\"]=inputs[\"Maks_Hava_S\"]-inputs[\"Min_Hava_S\"]\n",
    "    inputs[\"ruzgar_fark\"]=inputs[\"Maks_RuzH\"]-inputs[\"Min_RuzH\"]\n",
    "    inputs[\"nem_fark\"]=inputs[\"Maks_Nem\"]-inputs[\"Min_Nem\"]\n",
    "    \n",
    "    ilceler_ohe = pd.get_dummies(inputs.Ilce,\"Ilce\")\n",
    "    \n",
    "    x = pd.concat([ilceler_ohe,inputs.drop(\"Ilce\",axis=1)],axis=1)\n",
    "    y = outputs.copy()\n",
    "    \n",
    "    def month_part(hour):\n",
    "        if hour in [1,2,3]:\n",
    "            return \"sonbahar\"\n",
    "        elif hour in [4,5,6]:\n",
    "            return \"kis\"\n",
    "        elif hour in [7,8,9]:\n",
    "            return \"ilkbahar\"\n",
    "        elif hour in [10,11,12]:\n",
    "            return \"yaz\"\n",
    "\n",
    "\n",
    "    ay = pd.DataFrame(inputs.Veri_T.apply(lambda tarih : int(tarih.split(\".\")[1])))\n",
    "    ay.columns = [\"ay\"]\n",
    "    yil = pd.DataFrame(inputs.Veri_T.apply(lambda tarih : int(tarih.split(\".\")[2])%2000))\n",
    "    yil.columns = [\"yil\"]\n",
    "\n",
    "    mevsim_cat = pd.get_dummies(ay.ay.apply(month_part),\"Mevsim\")\n",
    "    ay_cat = pd.get_dummies(ay.ay,\"Ay\")\n",
    "    yil_cat = pd.get_dummies(yil.yil,\"Yil\")\n",
    "\n",
    "    x = pd.concat([mevsim_cat,ay_cat,yil_cat,x.drop(\"Veri_T\",axis=1)],axis=1)\n",
    "    \n",
    "    \n",
    "    saat_kolonlari = inputs.columns[inputs.columns.str.contains(\"_Z\")]  \n",
    "    for saat_kolon in saat_kolonlari:\n",
    "        saat = inputs[saat_kolon].apply(lambda x: int(x.split(\":\")[0]))\n",
    "        dakika = inputs[saat_kolon].apply(lambda x: int(x.split(\":\")[1]))\n",
    "\n",
    "        toplam_dakika = pd.DataFrame(saat*60+dakika)\n",
    "        x = pd.concat([toplam_dakika,x.drop(saat_kolon,axis=1)],axis=1)\n",
    "    \n",
    "    \n",
    "    surekli_tipler = [\"Min_Hava_S\",\"Maks_Hava_S\",\"Ort_Hava_S\",\"Min_Nem\",\"Maks_Nem\",\"Ort_Nem\",\"Min_RuzH\",\"Maks_RuzH\",\n",
    "                 \"Maks_RuzH_Z\",\"Min_RuzH_Z\",\"Maks_Nem_Z\",\"Min_Nem_Z\",\"Maks_Hava_S_Z\",\"Min_Hava_S_Z\",\n",
    "                  \"hava_fark\",\"ruzgar_fark\",\"nem_fark\"]\n",
    "    for kolon in surekli_tipler:\n",
    "        stn_sc = joblib.load(f\"scaler_datas/std_sc_{kolon}.bin\")\n",
    "        x[kolon] = stn_sc.transform(x[[kolon]])\n",
    "\n",
    "    \n",
    "    veri_id = x[\"Veri_ID\"].copy()\n",
    "    x.drop(\"Veri_ID\",axis=1,inplace=True)\n",
    "    \n",
    "    ana_model = joblib.load(\"lgbm.pkl\")\n",
    "    \n",
    "    tahminler = ana_model.predict(x)\n",
    "    datax = pd.concat([y,pd.DataFrame(tahminler,index=y.index)],axis=1)\n",
    "    datax.columns = [\"y_true\",\"y_pred\"]\n",
    "    confusion_matrix = pd.crosstab(datax['y_true'], datax['y_pred'], rownames=['Actual'], colnames=['Predicted'])\n",
    "    sn.heatmap(confusion_matrix, annot=True,fmt=\"g\")\n",
    "    plt.show()\n",
    "    \n",
    "    print(\"Accuracy Tüm Veriseti =\",accuracy_score(y,tahminler))\n",
    "    print(\"Precision Tüm Veriseti =\",precision_score(y,tahminler))\n",
    "    print(\"Recall Tüm Veriseti =\",recall_score(y,tahminler))\n",
    "    print(\"F1 Tüm Veriseti =\",f1_score(y,tahminler))\n",
    "    \n",
    "    to_csv=pd.Series(tahminler,name=\"icing_prediction\",index=veri_id)\n",
    "    to_csv.index.name = \"index\"\n",
    "    to_csv.to_csv(\"output.csv\",sep=';')\n"
   ]
  },
  {
   "cell_type": "code",
   "execution_count": 4,
   "id": "89feb26e",
   "metadata": {},
   "outputs": [],
   "source": [
    "#predict(\"buzlanma_data.csv\")"
   ]
  },
  {
   "cell_type": "markdown",
   "id": "f25d6ae2",
   "metadata": {},
   "source": [
    "# Genel Proje"
   ]
  },
  {
   "cell_type": "code",
   "execution_count": 5,
   "id": "2780ef11",
   "metadata": {},
   "outputs": [],
   "source": [
    "random_state = 42"
   ]
  },
  {
   "cell_type": "code",
   "execution_count": 6,
   "id": "041de6f5",
   "metadata": {},
   "outputs": [],
   "source": [
    "def egit_ve_test_et(model,train_data,test_data):\n",
    "    model.fit(train_data[0],train_data[1])\n",
    "    \n",
    "    y_val_pred = model.predict(test_data[0])\n",
    "    print(\"Precision =\",round(precision_score(test_data[1],y_val_pred),4))\n",
    "    print(\"Recal =\",round(recall_score(test_data[1],y_val_pred),4))\n",
    "    print(\"Accuracy =\",round(accuracy_score(test_data[1],y_val_pred),4))\n",
    "    print(\"F1 Score =\",round(f1_score(test_data[1],y_val_pred),4))\n",
    "\n",
    "    disp = plot_confusion_matrix(model, test_data[0], test_data[1],\n",
    "                                 display_labels=[\"Yok\",\"Var\"],\n",
    "                                 cmap=plt.cm.Greens)\n",
    "    \n",
    "    return model"
   ]
  },
  {
   "cell_type": "code",
   "execution_count": 7,
   "id": "5a152275",
   "metadata": {},
   "outputs": [],
   "source": [
    "def show_cf_for_lgbm(model_,x_,y_,title):\n",
    "    datax = pd.concat([y_,pd.DataFrame(model_.predict(x_),index=y_.index)],axis=1)\n",
    "    datax.columns = [\"y_true\",\"y_pred\"]\n",
    "\n",
    "    confusion_matrix = pd.crosstab(datax['y_true'], datax['y_pred'], rownames=['Actual'], colnames=['Predicted'])\n",
    "\n",
    "    ax = plt.axes()\n",
    "    sn.heatmap(confusion_matrix, annot=True,fmt=\"g\")\n",
    "    \n",
    "    ax.set_title(title)\n",
    "    plt.show()"
   ]
  },
  {
   "cell_type": "code",
   "execution_count": 8,
   "id": "2eafd75c",
   "metadata": {},
   "outputs": [],
   "source": [
    "def metrikleri_goster(model_,x,y,tip):\n",
    "    #recall : gerçekte positive olanların yüzde kaçı doğru tahmin edilmiş\n",
    "    #precision : positive olarak tahmin edilenlerin yüzde kaçı doğru\n",
    "    y_pred = model_.predict(x)\n",
    "    print(f\"Accuracy {tip}=\",accuracy_score(y,y_pred))\n",
    "    print(f\"Precision {tip}=\",precision_score(y,y_pred))\n",
    "    print(f\"Recall {tip}=\",recall_score(y,y_pred))\n",
    "    print(f\"F1 {tip}=\",f1_score(y,y_pred))"
   ]
  },
  {
   "cell_type": "markdown",
   "id": "9129a87c",
   "metadata": {},
   "source": [
    "# 1. Veri Önişleme"
   ]
  },
  {
   "cell_type": "code",
   "execution_count": 9,
   "id": "edc6d0bb",
   "metadata": {},
   "outputs": [
    {
     "data": {
      "text/html": [
       "<div>\n",
       "<style scoped>\n",
       "    .dataframe tbody tr th:only-of-type {\n",
       "        vertical-align: middle;\n",
       "    }\n",
       "\n",
       "    .dataframe tbody tr th {\n",
       "        vertical-align: top;\n",
       "    }\n",
       "\n",
       "    .dataframe thead th {\n",
       "        text-align: right;\n",
       "    }\n",
       "</style>\n",
       "<table border=\"1\" class=\"dataframe\">\n",
       "  <thead>\n",
       "    <tr style=\"text-align: right;\">\n",
       "      <th></th>\n",
       "      <th>Veri_ID</th>\n",
       "      <th>Ilce</th>\n",
       "      <th>Veri_T</th>\n",
       "      <th>Min_Hava_S_Z</th>\n",
       "      <th>Min_Hava_S</th>\n",
       "      <th>Maks_Hava_S_Z</th>\n",
       "      <th>Maks_Hava_S</th>\n",
       "      <th>Ort_Hava_S</th>\n",
       "      <th>Min_Nem_Z</th>\n",
       "      <th>Min_Nem</th>\n",
       "      <th>Maks_Nem_Z</th>\n",
       "      <th>Maks_Nem</th>\n",
       "      <th>Ort_Nem</th>\n",
       "      <th>Min_RuzH_Z</th>\n",
       "      <th>Min_RuzH</th>\n",
       "      <th>Maks_RuzH_Z</th>\n",
       "      <th>Maks_RuzH</th>\n",
       "      <th>Buzlanma</th>\n",
       "    </tr>\n",
       "  </thead>\n",
       "  <tbody>\n",
       "    <tr>\n",
       "      <th>0</th>\n",
       "      <td>543258</td>\n",
       "      <td>5</td>\n",
       "      <td>7.06.2018</td>\n",
       "      <td>02:40</td>\n",
       "      <td>21.41</td>\n",
       "      <td>11:15</td>\n",
       "      <td>30.94</td>\n",
       "      <td>25.58</td>\n",
       "      <td>10:59</td>\n",
       "      <td>34.2</td>\n",
       "      <td>23:56</td>\n",
       "      <td>83.4</td>\n",
       "      <td>63.65</td>\n",
       "      <td>02:13</td>\n",
       "      <td>0.00</td>\n",
       "      <td>15:55</td>\n",
       "      <td>6.05</td>\n",
       "      <td>0</td>\n",
       "    </tr>\n",
       "    <tr>\n",
       "      <th>1</th>\n",
       "      <td>341432</td>\n",
       "      <td>3</td>\n",
       "      <td>7.06.2013</td>\n",
       "      <td>05:56</td>\n",
       "      <td>18.56</td>\n",
       "      <td>14:26</td>\n",
       "      <td>26.58</td>\n",
       "      <td>22.23</td>\n",
       "      <td>15:55</td>\n",
       "      <td>40.2</td>\n",
       "      <td>05:59</td>\n",
       "      <td>80.6</td>\n",
       "      <td>62.14</td>\n",
       "      <td>09:33</td>\n",
       "      <td>0.00</td>\n",
       "      <td>21:54</td>\n",
       "      <td>5.09</td>\n",
       "      <td>0</td>\n",
       "    </tr>\n",
       "    <tr>\n",
       "      <th>2</th>\n",
       "      <td>641706</td>\n",
       "      <td>6</td>\n",
       "      <td>8.03.2014</td>\n",
       "      <td>22:15</td>\n",
       "      <td>7.22</td>\n",
       "      <td>13:20</td>\n",
       "      <td>10.21</td>\n",
       "      <td>8.38</td>\n",
       "      <td>13:24</td>\n",
       "      <td>79.23</td>\n",
       "      <td>01:03</td>\n",
       "      <td>100.0</td>\n",
       "      <td>94.44</td>\n",
       "      <td>02:13</td>\n",
       "      <td>0.00</td>\n",
       "      <td>14:54</td>\n",
       "      <td>5.81</td>\n",
       "      <td>0</td>\n",
       "    </tr>\n",
       "    <tr>\n",
       "      <th>3</th>\n",
       "      <td>341711</td>\n",
       "      <td>3</td>\n",
       "      <td>13.03.2014</td>\n",
       "      <td>23:57</td>\n",
       "      <td>5.76</td>\n",
       "      <td>10:32</td>\n",
       "      <td>10.09</td>\n",
       "      <td>7.68</td>\n",
       "      <td>16:32</td>\n",
       "      <td>48.22</td>\n",
       "      <td>02:52</td>\n",
       "      <td>83.4</td>\n",
       "      <td>68.35</td>\n",
       "      <td>23:56</td>\n",
       "      <td>0.00</td>\n",
       "      <td>14:55</td>\n",
       "      <td>6.61</td>\n",
       "      <td>0</td>\n",
       "    </tr>\n",
       "    <tr>\n",
       "      <th>4</th>\n",
       "      <td>541274</td>\n",
       "      <td>5</td>\n",
       "      <td>31.12.2012</td>\n",
       "      <td>04:44</td>\n",
       "      <td>7.54</td>\n",
       "      <td>12:26</td>\n",
       "      <td>10.80</td>\n",
       "      <td>8.86</td>\n",
       "      <td>12:13</td>\n",
       "      <td>70.52</td>\n",
       "      <td>04:54</td>\n",
       "      <td>86.5</td>\n",
       "      <td>78.55</td>\n",
       "      <td>10:24</td>\n",
       "      <td>0.69</td>\n",
       "      <td>13:32</td>\n",
       "      <td>6.93</td>\n",
       "      <td>0</td>\n",
       "    </tr>\n",
       "  </tbody>\n",
       "</table>\n",
       "</div>"
      ],
      "text/plain": [
       "   Veri_ID  Ilce      Veri_T Min_Hava_S_Z  Min_Hava_S Maks_Hava_S_Z  \\\n",
       "0   543258     5   7.06.2018        02:40       21.41         11:15   \n",
       "1   341432     3   7.06.2013        05:56       18.56         14:26   \n",
       "2   641706     6   8.03.2014        22:15        7.22         13:20   \n",
       "3   341711     3  13.03.2014        23:57        5.76         10:32   \n",
       "4   541274     5  31.12.2012        04:44        7.54         12:26   \n",
       "\n",
       "   Maks_Hava_S  Ort_Hava_S Min_Nem_Z Min_Nem Maks_Nem_Z  Maks_Nem Ort_Nem  \\\n",
       "0        30.94       25.58     10:59    34.2      23:56      83.4   63.65   \n",
       "1        26.58       22.23     15:55    40.2      05:59      80.6   62.14   \n",
       "2        10.21        8.38     13:24   79.23      01:03     100.0   94.44   \n",
       "3        10.09        7.68     16:32   48.22      02:52      83.4   68.35   \n",
       "4        10.80        8.86     12:13   70.52      04:54      86.5   78.55   \n",
       "\n",
       "  Min_RuzH_Z  Min_RuzH Maks_RuzH_Z  Maks_RuzH  Buzlanma  \n",
       "0      02:13      0.00       15:55       6.05         0  \n",
       "1      09:33      0.00       21:54       5.09         0  \n",
       "2      02:13      0.00       14:54       5.81         0  \n",
       "3      23:56      0.00       14:55       6.61         0  \n",
       "4      10:24      0.69       13:32       6.93         0  "
      ]
     },
     "execution_count": 9,
     "metadata": {},
     "output_type": "execute_result"
    }
   ],
   "source": [
    "data = pd.read_csv(\"buzlanma_data.csv\",sep=\";\")\n",
    "data.head()"
   ]
  },
  {
   "cell_type": "code",
   "execution_count": 10,
   "id": "262b268d",
   "metadata": {},
   "outputs": [],
   "source": [
    "#verideki bazı anlamsiz degerlerin bulundugu satirlar verisetinden atılıyor.\n",
    "nan_value = float(\"NaN\")\n",
    "data.replace(\" \", nan_value, inplace=True)\n",
    "data.dropna(subset = data.columns, inplace=True)\n",
    "\n",
    "data.replace(\"///\", nan_value, inplace=True)\n",
    "data.dropna(subset = data.columns, inplace=True)"
   ]
  },
  {
   "cell_type": "code",
   "execution_count": 11,
   "id": "3a262ad3",
   "metadata": {},
   "outputs": [
    {
     "data": {
      "text/html": [
       "<div>\n",
       "<style scoped>\n",
       "    .dataframe tbody tr th:only-of-type {\n",
       "        vertical-align: middle;\n",
       "    }\n",
       "\n",
       "    .dataframe tbody tr th {\n",
       "        vertical-align: top;\n",
       "    }\n",
       "\n",
       "    .dataframe thead th {\n",
       "        text-align: right;\n",
       "    }\n",
       "</style>\n",
       "<table border=\"1\" class=\"dataframe\">\n",
       "  <thead>\n",
       "    <tr style=\"text-align: right;\">\n",
       "      <th></th>\n",
       "      <th>Veri_ID</th>\n",
       "      <th>Ilce</th>\n",
       "      <th>Min_Hava_S</th>\n",
       "      <th>Maks_Hava_S</th>\n",
       "      <th>Ort_Hava_S</th>\n",
       "      <th>Maks_Nem</th>\n",
       "      <th>Min_RuzH</th>\n",
       "      <th>Maks_RuzH</th>\n",
       "      <th>Buzlanma</th>\n",
       "    </tr>\n",
       "  </thead>\n",
       "  <tbody>\n",
       "    <tr>\n",
       "      <th>count</th>\n",
       "      <td>15767.000000</td>\n",
       "      <td>15767.000000</td>\n",
       "      <td>15767.000000</td>\n",
       "      <td>15767.000000</td>\n",
       "      <td>15767.000000</td>\n",
       "      <td>15767.000000</td>\n",
       "      <td>15767.000000</td>\n",
       "      <td>15767.000000</td>\n",
       "      <td>15767.000000</td>\n",
       "    </tr>\n",
       "    <tr>\n",
       "      <th>mean</th>\n",
       "      <td>438647.739456</td>\n",
       "      <td>3.962073</td>\n",
       "      <td>12.224212</td>\n",
       "      <td>19.289799</td>\n",
       "      <td>15.581608</td>\n",
       "      <td>90.730107</td>\n",
       "      <td>0.156099</td>\n",
       "      <td>7.221317</td>\n",
       "      <td>0.060316</td>\n",
       "    </tr>\n",
       "    <tr>\n",
       "      <th>std</th>\n",
       "      <td>201013.732304</td>\n",
       "      <td>2.010396</td>\n",
       "      <td>6.989889</td>\n",
       "      <td>8.024791</td>\n",
       "      <td>7.308921</td>\n",
       "      <td>9.959649</td>\n",
       "      <td>0.384356</td>\n",
       "      <td>2.312719</td>\n",
       "      <td>0.238079</td>\n",
       "    </tr>\n",
       "    <tr>\n",
       "      <th>min</th>\n",
       "      <td>141030.000000</td>\n",
       "      <td>1.000000</td>\n",
       "      <td>-8.060000</td>\n",
       "      <td>-3.200000</td>\n",
       "      <td>-4.760000</td>\n",
       "      <td>3.550000</td>\n",
       "      <td>0.000000</td>\n",
       "      <td>0.000000</td>\n",
       "      <td>0.000000</td>\n",
       "    </tr>\n",
       "    <tr>\n",
       "      <th>25%</th>\n",
       "      <td>242943.500000</td>\n",
       "      <td>2.000000</td>\n",
       "      <td>6.540000</td>\n",
       "      <td>12.930000</td>\n",
       "      <td>9.565000</td>\n",
       "      <td>85.000000</td>\n",
       "      <td>0.000000</td>\n",
       "      <td>5.650000</td>\n",
       "      <td>0.000000</td>\n",
       "    </tr>\n",
       "    <tr>\n",
       "      <th>50%</th>\n",
       "      <td>442494.000000</td>\n",
       "      <td>4.000000</td>\n",
       "      <td>12.030000</td>\n",
       "      <td>19.450000</td>\n",
       "      <td>15.440000</td>\n",
       "      <td>93.300000</td>\n",
       "      <td>0.000000</td>\n",
       "      <td>7.010000</td>\n",
       "      <td>0.000000</td>\n",
       "    </tr>\n",
       "    <tr>\n",
       "      <th>75%</th>\n",
       "      <td>641306.500000</td>\n",
       "      <td>6.000000</td>\n",
       "      <td>18.380000</td>\n",
       "      <td>26.310000</td>\n",
       "      <td>22.215000</td>\n",
       "      <td>99.600000</td>\n",
       "      <td>0.000000</td>\n",
       "      <td>8.610000</td>\n",
       "      <td>0.000000</td>\n",
       "    </tr>\n",
       "    <tr>\n",
       "      <th>max</th>\n",
       "      <td>744043.000000</td>\n",
       "      <td>7.000000</td>\n",
       "      <td>47.000000</td>\n",
       "      <td>57.590000</td>\n",
       "      <td>61.000000</td>\n",
       "      <td>100.000000</td>\n",
       "      <td>3.810000</td>\n",
       "      <td>20.290000</td>\n",
       "      <td>1.000000</td>\n",
       "    </tr>\n",
       "  </tbody>\n",
       "</table>\n",
       "</div>"
      ],
      "text/plain": [
       "             Veri_ID          Ilce    Min_Hava_S   Maks_Hava_S    Ort_Hava_S  \\\n",
       "count   15767.000000  15767.000000  15767.000000  15767.000000  15767.000000   \n",
       "mean   438647.739456      3.962073     12.224212     19.289799     15.581608   \n",
       "std    201013.732304      2.010396      6.989889      8.024791      7.308921   \n",
       "min    141030.000000      1.000000     -8.060000     -3.200000     -4.760000   \n",
       "25%    242943.500000      2.000000      6.540000     12.930000      9.565000   \n",
       "50%    442494.000000      4.000000     12.030000     19.450000     15.440000   \n",
       "75%    641306.500000      6.000000     18.380000     26.310000     22.215000   \n",
       "max    744043.000000      7.000000     47.000000     57.590000     61.000000   \n",
       "\n",
       "           Maks_Nem      Min_RuzH     Maks_RuzH      Buzlanma  \n",
       "count  15767.000000  15767.000000  15767.000000  15767.000000  \n",
       "mean      90.730107      0.156099      7.221317      0.060316  \n",
       "std        9.959649      0.384356      2.312719      0.238079  \n",
       "min        3.550000      0.000000      0.000000      0.000000  \n",
       "25%       85.000000      0.000000      5.650000      0.000000  \n",
       "50%       93.300000      0.000000      7.010000      0.000000  \n",
       "75%       99.600000      0.000000      8.610000      0.000000  \n",
       "max      100.000000      3.810000     20.290000      1.000000  "
      ]
     },
     "execution_count": 11,
     "metadata": {},
     "output_type": "execute_result"
    }
   ],
   "source": [
    "data.describe()\n",
    "# toplamda 3 satir verisetinden çıkarıldı"
   ]
  },
  {
   "cell_type": "code",
   "execution_count": 12,
   "id": "15333a6f",
   "metadata": {},
   "outputs": [
    {
     "name": "stdout",
     "output_type": "stream",
     "text": [
      "<class 'pandas.core.frame.DataFrame'>\n",
      "Int64Index: 15767 entries, 0 to 15769\n",
      "Data columns (total 18 columns):\n",
      " #   Column         Non-Null Count  Dtype  \n",
      "---  ------         --------------  -----  \n",
      " 0   Veri_ID        15767 non-null  int64  \n",
      " 1   Ilce           15767 non-null  int64  \n",
      " 2   Veri_T         15767 non-null  object \n",
      " 3   Min_Hava_S_Z   15767 non-null  object \n",
      " 4   Min_Hava_S     15767 non-null  float64\n",
      " 5   Maks_Hava_S_Z  15767 non-null  object \n",
      " 6   Maks_Hava_S    15767 non-null  float64\n",
      " 7   Ort_Hava_S     15767 non-null  float64\n",
      " 8   Min_Nem_Z      15767 non-null  object \n",
      " 9   Min_Nem        15767 non-null  object \n",
      " 10  Maks_Nem_Z     15767 non-null  object \n",
      " 11  Maks_Nem       15767 non-null  float64\n",
      " 12  Ort_Nem        15767 non-null  object \n",
      " 13  Min_RuzH_Z     15767 non-null  object \n",
      " 14  Min_RuzH       15767 non-null  float64\n",
      " 15  Maks_RuzH_Z    15767 non-null  object \n",
      " 16  Maks_RuzH      15767 non-null  float64\n",
      " 17  Buzlanma       15767 non-null  int64  \n",
      "dtypes: float64(6), int64(3), object(9)\n",
      "memory usage: 2.3+ MB\n"
     ]
    }
   ],
   "source": [
    "data.info()"
   ]
  },
  {
   "cell_type": "code",
   "execution_count": 13,
   "id": "be701a99",
   "metadata": {},
   "outputs": [],
   "source": [
    "# info metodu ciktisindan goruldugu uzere bazi kolonlar float olmasi gerektigi halde object olarak gelmis\n",
    "# bu yüzden veritipi dönüşümü yapılıyor.\n",
    "for kolon in [\"Min_Nem\",\"Ort_Nem\"]:\n",
    "    data[kolon] = data[kolon].astype(np.float64)"
   ]
  },
  {
   "cell_type": "code",
   "execution_count": 14,
   "id": "c0eb8b91",
   "metadata": {},
   "outputs": [],
   "source": [
    "# daha once describe metodu çıktısında görüldüğü üzere verisetinde bazı outlier veriler mevcut\n",
    "# bu outlier veriler verisetinden atılıyor\n",
    "for kolon in [\"Min_Hava_S\",\"Maks_Hava_S\",\"Ort_Hava_S\",\"Min_Nem\",\"Maks_Nem\",\"Ort_Nem\",\"Min_RuzH\",\"Maks_RuzH\"]:\n",
    "    cond = (np.abs(stats.zscore(data[kolon])) < 3)\n",
    "    data = data[cond]"
   ]
  },
  {
   "cell_type": "code",
   "execution_count": 15,
   "id": "21777dd7",
   "metadata": {},
   "outputs": [
    {
     "data": {
      "text/html": [
       "<div>\n",
       "<style scoped>\n",
       "    .dataframe tbody tr th:only-of-type {\n",
       "        vertical-align: middle;\n",
       "    }\n",
       "\n",
       "    .dataframe tbody tr th {\n",
       "        vertical-align: top;\n",
       "    }\n",
       "\n",
       "    .dataframe thead th {\n",
       "        text-align: right;\n",
       "    }\n",
       "</style>\n",
       "<table border=\"1\" class=\"dataframe\">\n",
       "  <thead>\n",
       "    <tr style=\"text-align: right;\">\n",
       "      <th></th>\n",
       "      <th>Veri_ID</th>\n",
       "      <th>Ilce</th>\n",
       "      <th>Min_Hava_S</th>\n",
       "      <th>Maks_Hava_S</th>\n",
       "      <th>Ort_Hava_S</th>\n",
       "      <th>Min_Nem</th>\n",
       "      <th>Maks_Nem</th>\n",
       "      <th>Ort_Nem</th>\n",
       "      <th>Min_RuzH</th>\n",
       "      <th>Maks_RuzH</th>\n",
       "      <th>Buzlanma</th>\n",
       "    </tr>\n",
       "  </thead>\n",
       "  <tbody>\n",
       "    <tr>\n",
       "      <th>count</th>\n",
       "      <td>15050.000000</td>\n",
       "      <td>15050.000000</td>\n",
       "      <td>15050.000000</td>\n",
       "      <td>15050.000000</td>\n",
       "      <td>15050.000000</td>\n",
       "      <td>15050.000000</td>\n",
       "      <td>15050.000000</td>\n",
       "      <td>15050.000000</td>\n",
       "      <td>15050.000000</td>\n",
       "      <td>15050.000000</td>\n",
       "      <td>15050.000000</td>\n",
       "    </tr>\n",
       "    <tr>\n",
       "      <th>mean</th>\n",
       "      <td>442749.613621</td>\n",
       "      <td>4.003123</td>\n",
       "      <td>12.280421</td>\n",
       "      <td>19.383829</td>\n",
       "      <td>15.650116</td>\n",
       "      <td>54.309987</td>\n",
       "      <td>91.024716</td>\n",
       "      <td>74.643458</td>\n",
       "      <td>0.120019</td>\n",
       "      <td>7.152118</td>\n",
       "      <td>0.059402</td>\n",
       "    </tr>\n",
       "    <tr>\n",
       "      <th>std</th>\n",
       "      <td>199588.236253</td>\n",
       "      <td>1.996156</td>\n",
       "      <td>6.950924</td>\n",
       "      <td>7.938646</td>\n",
       "      <td>7.242878</td>\n",
       "      <td>18.980939</td>\n",
       "      <td>9.243088</td>\n",
       "      <td>13.972304</td>\n",
       "      <td>0.293060</td>\n",
       "      <td>2.084942</td>\n",
       "      <td>0.236383</td>\n",
       "    </tr>\n",
       "    <tr>\n",
       "      <th>min</th>\n",
       "      <td>141030.000000</td>\n",
       "      <td>1.000000</td>\n",
       "      <td>-6.830000</td>\n",
       "      <td>-3.200000</td>\n",
       "      <td>-4.760000</td>\n",
       "      <td>3.400000</td>\n",
       "      <td>60.850000</td>\n",
       "      <td>32.830000</td>\n",
       "      <td>0.000000</td>\n",
       "      <td>0.530000</td>\n",
       "      <td>0.000000</td>\n",
       "    </tr>\n",
       "    <tr>\n",
       "      <th>25%</th>\n",
       "      <td>243150.250000</td>\n",
       "      <td>2.000000</td>\n",
       "      <td>6.630000</td>\n",
       "      <td>13.070000</td>\n",
       "      <td>9.720000</td>\n",
       "      <td>40.320000</td>\n",
       "      <td>85.200000</td>\n",
       "      <td>64.692500</td>\n",
       "      <td>0.000000</td>\n",
       "      <td>5.650000</td>\n",
       "      <td>0.000000</td>\n",
       "    </tr>\n",
       "    <tr>\n",
       "      <th>50%</th>\n",
       "      <td>442595.500000</td>\n",
       "      <td>4.000000</td>\n",
       "      <td>12.100000</td>\n",
       "      <td>19.530000</td>\n",
       "      <td>15.515000</td>\n",
       "      <td>52.550000</td>\n",
       "      <td>93.300000</td>\n",
       "      <td>74.470000</td>\n",
       "      <td>0.000000</td>\n",
       "      <td>7.010000</td>\n",
       "      <td>0.000000</td>\n",
       "    </tr>\n",
       "    <tr>\n",
       "      <th>75%</th>\n",
       "      <td>641384.750000</td>\n",
       "      <td>6.000000</td>\n",
       "      <td>18.410000</td>\n",
       "      <td>26.337500</td>\n",
       "      <td>22.230000</td>\n",
       "      <td>65.857500</td>\n",
       "      <td>99.600000</td>\n",
       "      <td>84.877500</td>\n",
       "      <td>0.000000</td>\n",
       "      <td>8.530000</td>\n",
       "      <td>0.000000</td>\n",
       "    </tr>\n",
       "    <tr>\n",
       "      <th>max</th>\n",
       "      <td>744043.000000</td>\n",
       "      <td>7.000000</td>\n",
       "      <td>26.570000</td>\n",
       "      <td>39.890000</td>\n",
       "      <td>31.390000</td>\n",
       "      <td>100.000000</td>\n",
       "      <td>100.000000</td>\n",
       "      <td>100.000000</td>\n",
       "      <td>1.250000</td>\n",
       "      <td>13.810000</td>\n",
       "      <td>1.000000</td>\n",
       "    </tr>\n",
       "  </tbody>\n",
       "</table>\n",
       "</div>"
      ],
      "text/plain": [
       "             Veri_ID          Ilce    Min_Hava_S   Maks_Hava_S    Ort_Hava_S  \\\n",
       "count   15050.000000  15050.000000  15050.000000  15050.000000  15050.000000   \n",
       "mean   442749.613621      4.003123     12.280421     19.383829     15.650116   \n",
       "std    199588.236253      1.996156      6.950924      7.938646      7.242878   \n",
       "min    141030.000000      1.000000     -6.830000     -3.200000     -4.760000   \n",
       "25%    243150.250000      2.000000      6.630000     13.070000      9.720000   \n",
       "50%    442595.500000      4.000000     12.100000     19.530000     15.515000   \n",
       "75%    641384.750000      6.000000     18.410000     26.337500     22.230000   \n",
       "max    744043.000000      7.000000     26.570000     39.890000     31.390000   \n",
       "\n",
       "            Min_Nem      Maks_Nem       Ort_Nem      Min_RuzH     Maks_RuzH  \\\n",
       "count  15050.000000  15050.000000  15050.000000  15050.000000  15050.000000   \n",
       "mean      54.309987     91.024716     74.643458      0.120019      7.152118   \n",
       "std       18.980939      9.243088     13.972304      0.293060      2.084942   \n",
       "min        3.400000     60.850000     32.830000      0.000000      0.530000   \n",
       "25%       40.320000     85.200000     64.692500      0.000000      5.650000   \n",
       "50%       52.550000     93.300000     74.470000      0.000000      7.010000   \n",
       "75%       65.857500     99.600000     84.877500      0.000000      8.530000   \n",
       "max      100.000000    100.000000    100.000000      1.250000     13.810000   \n",
       "\n",
       "           Buzlanma  \n",
       "count  15050.000000  \n",
       "mean       0.059402  \n",
       "std        0.236383  \n",
       "min        0.000000  \n",
       "25%        0.000000  \n",
       "50%        0.000000  \n",
       "75%        0.000000  \n",
       "max        1.000000  "
      ]
     },
     "execution_count": 15,
     "metadata": {},
     "output_type": "execute_result"
    }
   ],
   "source": [
    "data.describe()"
   ]
  },
  {
   "cell_type": "code",
   "execution_count": 16,
   "id": "abc449ce",
   "metadata": {},
   "outputs": [],
   "source": [
    "# girdiler ve ciktilar ayriliyor\n",
    "inputs = data.iloc[:,1:-1].copy()\n",
    "outputs = data.iloc[:,-1:].copy()"
   ]
  },
  {
   "cell_type": "markdown",
   "id": "cb61fe4e",
   "metadata": {},
   "source": [
    "## 1.1. Eklenen Featureler"
   ]
  },
  {
   "cell_type": "code",
   "execution_count": 17,
   "id": "630d6f6f",
   "metadata": {},
   "outputs": [],
   "source": [
    "# günlük olculen(max ve min) hava sicakligi ve ruzgar hizi arasindaki farklar feature olarak ekleniyor\n",
    "inputs[\"hava_fark\"]=inputs[\"Maks_Hava_S\"]-inputs[\"Min_Hava_S\"]\n",
    "inputs[\"ruzgar_fark\"]=inputs[\"Maks_RuzH\"]-inputs[\"Min_RuzH\"]\n",
    "inputs[\"nem_fark\"]=inputs[\"Maks_Nem\"]-inputs[\"Min_Nem\"]"
   ]
  },
  {
   "cell_type": "code",
   "execution_count": 18,
   "id": "8a816f08",
   "metadata": {},
   "outputs": [],
   "source": [
    "# ilcelere one-hot encoding yapılıyor\n",
    "ilceler_ohe = pd.get_dummies(inputs.Ilce,\"Ilce\")\n",
    "x = pd.concat([ilceler_ohe,inputs.drop(\"Ilce\",axis=1)],axis=1)\n",
    "y = outputs.copy()"
   ]
  },
  {
   "cell_type": "code",
   "execution_count": 19,
   "id": "7521dae1",
   "metadata": {},
   "outputs": [],
   "source": [
    "#veri tarihi sütun : mevsim, ay ve yil olacak sekilde 3 farklı kategorik(nominal) veriye ayrılıyor.\n",
    "def month_part(hour):\n",
    "    if hour in [1,2,3]:\n",
    "        return \"sonbahar\"\n",
    "    elif hour in [4,5,6]:\n",
    "        return \"kis\"\n",
    "    elif hour in [7,8,9]:\n",
    "        return \"ilkbahar\"\n",
    "    elif hour in [10,11,12]:\n",
    "        return \"yaz\"\n",
    "\n",
    "\n",
    "ay = pd.DataFrame(inputs.Veri_T.apply(lambda tarih : int(tarih.split(\".\")[1])))\n",
    "ay.columns = [\"ay\"]\n",
    "yil = pd.DataFrame(inputs.Veri_T.apply(lambda tarih : int(tarih.split(\".\")[2])%2000))\n",
    "yil.columns = [\"yil\"]\n",
    "\n",
    "mevsim_cat = pd.get_dummies(ay.ay.apply(month_part),\"Mevsim\")\n",
    "ay_cat = pd.get_dummies(ay.ay,\"Ay\")\n",
    "yil_cat = pd.get_dummies(yil.yil,\"Yil\")\n",
    "\n",
    "x = pd.concat([mevsim_cat,ay_cat,yil_cat,x.drop(\"Veri_T\",axis=1)],axis=1)"
   ]
  },
  {
   "cell_type": "code",
   "execution_count": 20,
   "id": "adf3a1d2",
   "metadata": {},
   "outputs": [
    {
     "data": {
      "text/plain": [
       "Index(['Min_Hava_S_Z', 'Maks_Hava_S_Z', 'Min_Nem_Z', 'Maks_Nem_Z',\n",
       "       'Min_RuzH_Z', 'Maks_RuzH_Z'],\n",
       "      dtype='object')"
      ]
     },
     "execution_count": 20,
     "metadata": {},
     "output_type": "execute_result"
    }
   ],
   "source": [
    "saat_kolonlari = inputs.columns[inputs.columns.str.contains(\"_Z\")]\n",
    "saat_kolonlari"
   ]
  },
  {
   "cell_type": "code",
   "execution_count": 21,
   "id": "f0403391",
   "metadata": {},
   "outputs": [],
   "source": [
    "# farkli verilerin min ve max degerlerinin olculdugu saatler gun icinde karsilik kalan dakikayi gosterecek sekilde kodlaniyor\n",
    "for saat_kolon in saat_kolonlari:\n",
    "    saat = inputs[saat_kolon].apply(lambda x: int(x.split(\":\")[0]))\n",
    "    dakika = inputs[saat_kolon].apply(lambda x: int(x.split(\":\")[1]))\n",
    "    \n",
    "    toplam_dakika = pd.DataFrame(saat*60+dakika)\n",
    "    x = pd.concat([toplam_dakika,x.drop(saat_kolon,axis=1)],axis=1)"
   ]
  },
  {
   "cell_type": "markdown",
   "id": "1dda7e9f",
   "metadata": {},
   "source": [
    "## 1.2. Veriseti bölme ve veri ölçekleme "
   ]
  },
  {
   "cell_type": "code",
   "execution_count": 22,
   "id": "63ba8606",
   "metadata": {},
   "outputs": [],
   "source": [
    "# veriseti train, val ve test olmak üzere 3 parçaya bölünüyor\n",
    "x_train,x_val_test,y_train,y_val_test = train_test_split(x,y,test_size=0.3,stratify=y.Buzlanma,random_state=random_state)\n",
    "x_val,x_test,y_val,y_test = train_test_split(x_val_test,y_val_test,test_size=0.40,stratify=y_val_test.Buzlanma,random_state=random_state)"
   ]
  },
  {
   "cell_type": "code",
   "execution_count": 25,
   "id": "986442e6",
   "metadata": {},
   "outputs": [],
   "source": [
    "# verisetindeki sinif dagilimina göre sınıf ağırlıkları hesaplanıyor\n",
    "class_weights = class_weight.compute_class_weight(class_weight = 'balanced',\n",
    "                                                 classes  = np.unique(y_train.Buzlanma),\n",
    "                                                 y = y_train.Buzlanma)\n",
    "class_weights={0:class_weights[0],1:class_weights[1]}"
   ]
  },
  {
   "cell_type": "code",
   "execution_count": 27,
   "id": "6cbfff89",
   "metadata": {},
   "outputs": [
    {
     "data": {
      "text/plain": [
       "(10535, 2709, 1806)"
      ]
     },
     "execution_count": 27,
     "metadata": {},
     "output_type": "execute_result"
    }
   ],
   "source": [
    "len(x_train),len(x_val),len(x_test)"
   ]
  },
  {
   "cell_type": "code",
   "execution_count": 28,
   "id": "117adb70",
   "metadata": {},
   "outputs": [
    {
     "data": {
      "text/plain": [
       "(10535, 2709, 1806)"
      ]
     },
     "execution_count": 28,
     "metadata": {},
     "output_type": "execute_result"
    }
   ],
   "source": [
    "len(y_train),len(y_val),len(y_test)"
   ]
  },
  {
   "cell_type": "code",
   "execution_count": 29,
   "id": "5cfab241",
   "metadata": {},
   "outputs": [
    {
     "data": {
      "text/plain": [
       "(Buzlanma\n",
       " 0           14156\n",
       " 1             894\n",
       " dtype: int64,\n",
       " Buzlanma\n",
       " 0           9909\n",
       " 1            626\n",
       " dtype: int64,\n",
       " Buzlanma\n",
       " 0           2548\n",
       " 1            161\n",
       " dtype: int64,\n",
       " Buzlanma\n",
       " 0           1699\n",
       " 1            107\n",
       " dtype: int64)"
      ]
     },
     "execution_count": 29,
     "metadata": {},
     "output_type": "execute_result"
    }
   ],
   "source": [
    "# çıktıdaki sınıfların dagilim oranı 3 veriseti için de aynı\n",
    "outputs.value_counts(),y_train.value_counts(),y_val.value_counts(),y_test.value_counts()"
   ]
  },
  {
   "cell_type": "code",
   "execution_count": 30,
   "id": "359b862c",
   "metadata": {},
   "outputs": [],
   "source": [
    "# veri ölçekleme\n",
    "surekli_tipler = [\"Min_Hava_S\",\"Maks_Hava_S\",\"Ort_Hava_S\",\"Min_Nem\",\"Maks_Nem\",\"Ort_Nem\",\"Min_RuzH\",\"Maks_RuzH\",\n",
    "                 \"Maks_RuzH_Z\",\"Min_RuzH_Z\",\"Maks_Nem_Z\",\"Min_Nem_Z\",\"Maks_Hava_S_Z\",\"Min_Hava_S_Z\",\n",
    "                  \"hava_fark\",\"ruzgar_fark\",\"nem_fark\"]\n",
    "for kolon in surekli_tipler:\n",
    "    stn_sc = StandardScaler()\n",
    "    x_train[kolon] = stn_sc.fit_transform(x_train[[kolon]])\n",
    "    x_val[kolon] = stn_sc.transform(x_val[[kolon]])\n",
    "    x_test[kolon] = stn_sc.transform(x_test[[kolon]])\n",
    "    joblib.dump(stn_sc,f\"scaler_datas/std_sc_{kolon}.bin\",compress=True)"
   ]
  },
  {
   "cell_type": "markdown",
   "id": "3462f5d0",
   "metadata": {},
   "source": [
    "## Veri Önişleme ve Öznitelik Seçimi Aşamasında Yapılanlar\n",
    "\n",
    "<ol>\n",
    "  <li>Verisetindeki bazı satırlarındaki bazı sütunlarda \" \", \"///\" gibi anlamsız değerler bulunmaktaydı. Bu değerlerin bulunduğu satırlar verisetinden atıldı.</li>\n",
    "  <li>Bazı kolonların veritipleri istenilen şekilde(float64) değildi. Bu kolonların veritipleri değiştirildi.</li>\n",
    "  <li>Verisetindeki sürekli verilerde outlier veri içermekteydi(örneğin min. sıcaklık 47 derece gibi). Bu tür veriler verisetinden çıkarıldı.</li>\n",
    "  <li>Gün içinde ölçülen maksimum ve minimum \"Hava Sıcaklığı\",\"Ruzgar Hızı\" değerleri arasındaki farklar \"hava_fark\" ve \"ruzgar_fark\" featureları olarak eklendi. Bu 2 değerden farklı olarak gün içindeki nem farkı başarımı doğru yönde etkilemediği için \"nem_fark\" şeklinde bir feature oluşturulmadı.</li>\n",
    "  <li>İlçelerin farklı çoğrafi konumlarından dolayı(denize yakınlık,yükseklik vb.) buzlanmayı direkt etkileyebileceğini düşündüğüm için onları kategorik(nominal) veri olarak sınıflandırdım ve onlara one-hot dönüşümü yaptım.</li>\n",
    "  <li>Her bir örneğin oluşturulduğu tarihi belirten \"Veri_T\" sütunundan yil, mevsim ve ay olmak üzere 3 farklı kategorik(nominal) feature çıkarıldı. Her birinin başarıma etkisi hesaplandı ve üçünün de modele koyulması uygun görüldü.</li>\n",
    "  <li>Gün içinde Sıcaklık, rüzgar hızı ve nem değerlerinin minimum ve maksimum değerlerinin ölçüldüğü saatleri tutan kolonlar o gün içindeki dakikayı tutacak şekilde sürekli değişken olarak kodlandı. Saatler kullanılarak gün içindeki periyotlar(gece,akşam,öğle..) şeklinde kategorik(nominal ve ordinal olmak üzere 2 farklı şekilde) kodlandı fakat sürekli olarak kodlamak başarımı daha çok yükselttiği için bu şekilde kodlama yapıldı.</li>\n",
    "  <li>Veriseti yüzde 70 test, yüzde 18 val ve yüzde 12 test olmak üzere 3 parçaya bölündü. Elimizdeki veriseti dengesiz olduğu için veriseti 3 farklı parçaya bölünürken çıktıdaki sınıfların dağılımı 3 parçada da eşit olacak şekilde bölündü. Bunu yaparak modelin daha doğru şekilde test edilmesi sağlanmış oldu.</li>\n",
    "  <li>Verisetindeki sürekli veriler \"Standart Scaler\" yöntemi ile ölçeklendi. \"Robust Scaler\" ve \"Min-max Normalizasyonu\" da denenmiş olsa da \"Standart Scaler\" daha iyi sonuç verdiği için bu yöntem kullanıldı.</li>\n",
    "  <li>Verisetindeki çıktı sınıfları dengesiz dağıldığı için bunların \"class_weights\"'leri hesaplandı ve kullanılacak makine öğrenmesi algoritmalarında hiperparametre olarak kullanılmak üzere bir değişkene atandı.</li>\n",
    "</ol>"
   ]
  },
  {
   "cell_type": "markdown",
   "id": "50d7e1cb",
   "metadata": {},
   "source": [
    "# Makine öğrenme algoritmasının seçimi"
   ]
  },
  {
   "cell_type": "markdown",
   "id": "30cc8899",
   "metadata": {},
   "source": [
    "### Logistic Regression"
   ]
  },
  {
   "cell_type": "code",
   "execution_count": 31,
   "id": "d5072f40",
   "metadata": {},
   "outputs": [
    {
     "name": "stdout",
     "output_type": "stream",
     "text": [
      "Precision = 0.4984\n",
      "Recal = 0.9876\n",
      "Accuracy = 0.9402\n",
      "F1 Score = 0.6625\n"
     ]
    },
    {
     "data": {
      "text/plain": [
       "LogisticRegression(class_weight={0: 0.5315874457563831, 1: 8.414536741214057},\n",
       "                   random_state=42)"
      ]
     },
     "execution_count": 31,
     "metadata": {},
     "output_type": "execute_result"
    },
    {
     "data": {
      "image/png": "[encoded data removed]",
      "text/plain": [
       "<Figure size 640x480 with 2 Axes>"
      ]
     },
     "metadata": {},
     "output_type": "display_data"
    }
   ],
   "source": [
    "egit_ve_test_et(LogisticRegression(random_state=random_state,class_weight=class_weights),\n",
    "                (x_train,y_train.Buzlanma),(x_val,y_val.Buzlanma))"
   ]
  },
  {
   "cell_type": "markdown",
   "id": "e50f4ba4",
   "metadata": {},
   "source": [
    "### Decision Tree"
   ]
  },
  {
   "cell_type": "code",
   "execution_count": 32,
   "id": "091759a7",
   "metadata": {},
   "outputs": [
    {
     "name": "stdout",
     "output_type": "stream",
     "text": [
      "Precision = 0.6829\n",
      "Recal = 0.6957\n",
      "Accuracy = 0.9627\n",
      "F1 Score = 0.6892\n"
     ]
    },
    {
     "data": {
      "text/plain": [
       "DecisionTreeClassifier(random_state=42)"
      ]
     },
     "execution_count": 32,
     "metadata": {},
     "output_type": "execute_result"
    },
    {
     "data": {
      "image/png": "[encoded data removed]",
      "text/plain": [
       "<Figure size 640x480 with 2 Axes>"
      ]
     },
     "metadata": {},
     "output_type": "display_data"
    }
   ],
   "source": [
    "egit_ve_test_et(DecisionTreeClassifier(random_state=random_state),(x_train,y_train.Buzlanma),(x_val,y_val.Buzlanma))"
   ]
  },
  {
   "cell_type": "markdown",
   "id": "1a96a455",
   "metadata": {},
   "source": [
    "### Random Forest"
   ]
  },
  {
   "cell_type": "code",
   "execution_count": 33,
   "id": "c4ccffb4",
   "metadata": {},
   "outputs": [
    {
     "name": "stdout",
     "output_type": "stream",
     "text": [
      "Precision = 0.8647\n",
      "Recal = 0.7143\n",
      "Accuracy = 0.9764\n",
      "F1 Score = 0.7823\n"
     ]
    },
    {
     "data": {
      "text/plain": [
       "RandomForestClassifier(class_weight={0: 0.5315874457563831,\n",
       "                                     1: 8.414536741214057},\n",
       "                       random_state=42)"
      ]
     },
     "execution_count": 33,
     "metadata": {},
     "output_type": "execute_result"
    },
    {
     "data": {
      "image/png": "[encoded data removed]",
      "text/plain": [
       "<Figure size 640x480 with 2 Axes>"
      ]
     },
     "metadata": {},
     "output_type": "display_data"
    }
   ],
   "source": [
    "egit_ve_test_et(RandomForestClassifier(random_state=random_state,class_weight=class_weights),\n",
    "                (x_train,y_train.Buzlanma),(x_val,y_val.Buzlanma))"
   ]
  },
  {
   "cell_type": "markdown",
   "id": "e7b3bd47",
   "metadata": {},
   "source": [
    "### Gradient Boosting Classifier"
   ]
  },
  {
   "cell_type": "code",
   "execution_count": 34,
   "id": "d0b75f06",
   "metadata": {},
   "outputs": [
    {
     "name": "stdout",
     "output_type": "stream",
     "text": [
      "Precision = 0.8392\n",
      "Recal = 0.7453\n",
      "Accuracy = 0.9764\n",
      "F1 Score = 0.7895\n"
     ]
    },
    {
     "data": {
      "text/plain": [
       "GradientBoostingClassifier(random_state=42)"
      ]
     },
     "execution_count": 34,
     "metadata": {},
     "output_type": "execute_result"
    },
    {
     "data": {
      "image/png": "[encoded data removed]",
      "text/plain": [
       "<Figure size 640x480 with 2 Axes>"
      ]
     },
     "metadata": {},
     "output_type": "display_data"
    }
   ],
   "source": [
    "egit_ve_test_et(GradientBoostingClassifier(random_state=random_state),(x_train,y_train.Buzlanma),(x_val,y_val.Buzlanma))"
   ]
  },
  {
   "cell_type": "markdown",
   "id": "5f4a072e",
   "metadata": {},
   "source": [
    "### LightGBM"
   ]
  },
  {
   "cell_type": "code",
   "execution_count": 35,
   "id": "5c29e381",
   "metadata": {},
   "outputs": [
    {
     "data": {
      "text/plain": [
       "LGBMClassifier(is_unbalance=True, objective='binary')"
      ]
     },
     "execution_count": 35,
     "metadata": {},
     "output_type": "execute_result"
    }
   ],
   "source": [
    "clf = lgb.LGBMClassifier(objective='binary',is_unbalance=True)\n",
    "clf.fit(x_train,y_train.Buzlanma)"
   ]
  },
  {
   "cell_type": "code",
   "execution_count": 36,
   "id": "07f6990b",
   "metadata": {},
   "outputs": [
    {
     "data": {
      "image/png": "[encoded data removed]",
      "text/plain": [
       "<Figure size 640x480 with 2 Axes>"
      ]
     },
     "metadata": {},
     "output_type": "display_data"
    }
   ],
   "source": [
    "show_cf_for_lgbm(clf,x_val,y_val,\"Validation Dataset\")"
   ]
  },
  {
   "cell_type": "markdown",
   "id": "8e7f4ed0",
   "metadata": {},
   "source": [
    "### Neural Networks"
   ]
  },
  {
   "cell_type": "code",
   "execution_count": 37,
   "id": "10677a0e",
   "metadata": {},
   "outputs": [],
   "source": [
    "def grafik_ciz(history,suptitle):\n",
    "    epoklar = range(1,len(history[\"loss\"])+1)\n",
    "    \n",
    "    fig,axx = plt.subplots(1,2,figsize=(18,6))\n",
    "    \n",
    "    axx[0].plot(epoklar,history[\"recall\"],label=\"Training Recall\")\n",
    "    axx[0].plot(epoklar,history[\"val_recall\"],label=\"Validation Recall\")\n",
    "    axx[0].set_title(\"Recall Karşılaştırması\")\n",
    "    axx[0].set_xlabel(\"Epoklar\")\n",
    "    axx[0].set_ylabel(\"Recall Değerleri\")\n",
    "    axx[0].legend()\n",
    "  \n",
    "    axx[1].plot(epoklar,history[\"precision\"],label=\"Training Precision\")\n",
    "    axx[1].plot(epoklar,history[\"val_precision\"],label=\"Validation Precision\")\n",
    "    axx[1].set_title(\"Precision Karşılaştırması\")\n",
    "    axx[1].set_xlabel(\"Epoklar\")\n",
    "    axx[1].set_ylabel(\"Precision Değerleri\")\n",
    "    axx[1].legend()\n",
    "    \n",
    "    fig.suptitle(suptitle,fontsize=15,color=\"darkblue\")\n",
    "\n",
    "    plt.show()"
   ]
  },
  {
   "cell_type": "code",
   "execution_count": 38,
   "id": "4f35e696",
   "metadata": {},
   "outputs": [],
   "source": [
    "model = models.Sequential()"
   ]
  },
  {
   "cell_type": "code",
   "execution_count": 39,
   "id": "33609cb5",
   "metadata": {},
   "outputs": [],
   "source": [
    "model.add(layers.Dense(128,input_dim=x_train.shape[1],kernel_initializer=tf.keras.initializers.he_normal))\n",
    "model.add(layers.BatchNormalization())\n",
    "model.add(layers.Activation(\"swish\"))\n",
    "\n",
    "model.add(layers.Dropout(0.3))\n",
    "\n",
    "model.add(layers.Dense(128,kernel_initializer=tf.keras.initializers.he_normal))\n",
    "model.add(layers.BatchNormalization())\n",
    "model.add(layers.Activation(\"swish\"))\n",
    "\n",
    "model.add(layers.Dropout(0.3))\n",
    "\n",
    "model.add(layers.Dense(128,kernel_initializer=tf.keras.initializers.he_normal))\n",
    "model.add(layers.BatchNormalization())\n",
    "model.add(layers.Activation(\"swish\"))\n",
    "\n",
    "model.add(layers.Dropout(0.3))\n",
    "\n",
    "model.add(layers.Dense(128,kernel_initializer=tf.keras.initializers.he_normal))\n",
    "model.add(layers.BatchNormalization())\n",
    "model.add(layers.Activation(\"swish\"))\n",
    "\n",
    "model.add(layers.Dropout(0.3))\n",
    "\n",
    "model.add(layers.Dense(128,kernel_initializer=tf.keras.initializers.he_normal))\n",
    "model.add(layers.BatchNormalization())\n",
    "model.add(layers.Activation(\"swish\"))\n",
    "\n",
    "model.add(layers.Dense(1,activation=\"sigmoid\",kernel_initializer=tf.keras.initializers.he_normal))"
   ]
  },
  {
   "cell_type": "code",
   "execution_count": 40,
   "id": "6c9221be",
   "metadata": {},
   "outputs": [
    {
     "name": "stdout",
     "output_type": "stream",
     "text": [
      "Epoch 1/60\n",
      "165/165 [==============================] - 5s 11ms/step - loss: 0.6247 - recall: 0.6693 - precision: 0.1142 - val_loss: 0.5262 - val_recall: 0.9255 - val_precision: 0.2254\n",
      "Epoch 2/60\n",
      "165/165 [==============================] - 1s 6ms/step - loss: 0.5175 - recall: 0.8403 - precision: 0.1441 - val_loss: 0.4513 - val_recall: 0.9565 - val_precision: 0.2414\n",
      "Epoch 3/60\n",
      "165/165 [==============================] - 1s 6ms/step - loss: 0.4430 - recall: 0.9026 - precision: 0.1722 - val_loss: 0.4139 - val_recall: 0.9752 - val_precision: 0.2465\n",
      "Epoch 4/60\n",
      "165/165 [==============================] - 1s 7ms/step - loss: 0.3966 - recall: 0.9201 - precision: 0.1919 - val_loss: 0.3874 - val_recall: 0.9876 - val_precision: 0.2654\n",
      "Epoch 5/60\n",
      "165/165 [==============================] - 1s 7ms/step - loss: 0.3801 - recall: 0.9153 - precision: 0.2060 - val_loss: 0.3702 - val_recall: 0.9938 - val_precision: 0.2698\n",
      "Epoch 6/60\n",
      "165/165 [==============================] - 1s 6ms/step - loss: 0.3524 - recall: 0.9377 - precision: 0.2218 - val_loss: 0.3413 - val_recall: 0.9938 - val_precision: 0.2909\n",
      "Epoch 7/60\n",
      "165/165 [==============================] - 1s 7ms/step - loss: 0.3344 - recall: 0.9313 - precision: 0.2397 - val_loss: 0.3256 - val_recall: 0.9876 - val_precision: 0.2994\n",
      "Epoch 8/60\n",
      "165/165 [==============================] - 1s 8ms/step - loss: 0.3217 - recall: 0.9217 - precision: 0.2498 - val_loss: 0.3037 - val_recall: 0.9876 - val_precision: 0.3258\n",
      "Epoch 9/60\n",
      "165/165 [==============================] - 1s 7ms/step - loss: 0.2960 - recall: 0.9441 - precision: 0.2674 - val_loss: 0.2927 - val_recall: 0.9876 - val_precision: 0.3326\n",
      "Epoch 10/60\n",
      "165/165 [==============================] - 2s 10ms/step - loss: 0.3017 - recall: 0.9121 - precision: 0.2729 - val_loss: 0.2768 - val_recall: 0.9876 - val_precision: 0.3457\n",
      "Epoch 11/60\n",
      "165/165 [==============================] - 2s 11ms/step - loss: 0.2944 - recall: 0.9089 - precision: 0.2710 - val_loss: 0.2814 - val_recall: 0.9876 - val_precision: 0.3383\n",
      "Epoch 12/60\n",
      "165/165 [==============================] - 1s 8ms/step - loss: 0.2735 - recall: 0.9329 - precision: 0.2888 - val_loss: 0.2709 - val_recall: 0.9876 - val_precision: 0.3518\n",
      "Epoch 13/60\n",
      "165/165 [==============================] - 1s 7ms/step - loss: 0.2585 - recall: 0.9441 - precision: 0.3021 - val_loss: 0.2561 - val_recall: 0.9876 - val_precision: 0.3622\n",
      "Epoch 14/60\n",
      "165/165 [==============================] - 1s 7ms/step - loss: 0.2626 - recall: 0.9121 - precision: 0.3085 - val_loss: 0.2547 - val_recall: 0.9876 - val_precision: 0.3597\n",
      "Epoch 15/60\n",
      "165/165 [==============================] - 1s 7ms/step - loss: 0.2506 - recall: 0.9393 - precision: 0.3096 - val_loss: 0.2478 - val_recall: 0.9876 - val_precision: 0.3706\n",
      "Epoch 16/60\n",
      "165/165 [==============================] - 1s 8ms/step - loss: 0.2567 - recall: 0.9393 - precision: 0.3165 - val_loss: 0.2488 - val_recall: 0.9876 - val_precision: 0.3655\n",
      "Epoch 17/60\n",
      "165/165 [==============================] - 1s 6ms/step - loss: 0.2427 - recall: 0.9473 - precision: 0.3211 - val_loss: 0.2321 - val_recall: 0.9876 - val_precision: 0.3786\n",
      "Epoch 18/60\n",
      "165/165 [==============================] - 1s 7ms/step - loss: 0.2412 - recall: 0.9313 - precision: 0.3266 - val_loss: 0.2246 - val_recall: 0.9876 - val_precision: 0.3897\n",
      "Epoch 19/60\n",
      "165/165 [==============================] - 1s 7ms/step - loss: 0.2367 - recall: 0.9361 - precision: 0.3298 - val_loss: 0.2261 - val_recall: 0.9876 - val_precision: 0.3945\n",
      "Epoch 20/60\n",
      "165/165 [==============================] - 1s 7ms/step - loss: 0.2371 - recall: 0.9393 - precision: 0.3303 - val_loss: 0.2212 - val_recall: 0.9876 - val_precision: 0.3926\n",
      "Epoch 21/60\n",
      "165/165 [==============================] - 1s 9ms/step - loss: 0.2268 - recall: 0.9537 - precision: 0.3453 - val_loss: 0.2246 - val_recall: 0.9876 - val_precision: 0.3888\n",
      "Epoch 22/60\n",
      "165/165 [==============================] - 1s 7ms/step - loss: 0.2265 - recall: 0.9553 - precision: 0.3345 - val_loss: 0.2101 - val_recall: 0.9876 - val_precision: 0.4036\n",
      "Epoch 23/60\n",
      "165/165 [==============================] - 1s 9ms/step - loss: 0.2220 - recall: 0.9489 - precision: 0.3430 - val_loss: 0.2027 - val_recall: 0.9876 - val_precision: 0.4109\n",
      "Epoch 24/60\n",
      "165/165 [==============================] - 1s 7ms/step - loss: 0.2202 - recall: 0.9377 - precision: 0.3415 - val_loss: 0.2058 - val_recall: 0.9876 - val_precision: 0.4036\n",
      "Epoch 25/60\n",
      "165/165 [==============================] - 1s 6ms/step - loss: 0.2100 - recall: 0.9537 - precision: 0.3467 - val_loss: 0.1860 - val_recall: 0.9876 - val_precision: 0.4286\n",
      "Epoch 26/60\n",
      "165/165 [==============================] - 1s 7ms/step - loss: 0.2222 - recall: 0.9441 - precision: 0.3426 - val_loss: 0.1934 - val_recall: 0.9876 - val_precision: 0.4218\n",
      "Epoch 27/60\n",
      "165/165 [==============================] - 1s 8ms/step - loss: 0.2135 - recall: 0.9457 - precision: 0.3524 - val_loss: 0.1948 - val_recall: 0.9876 - val_precision: 0.4206\n",
      "Epoch 28/60\n",
      "165/165 [==============================] - 1s 7ms/step - loss: 0.1979 - recall: 0.9649 - precision: 0.3615 - val_loss: 0.1839 - val_recall: 0.9876 - val_precision: 0.4356\n",
      "Epoch 29/60\n",
      "165/165 [==============================] - 1s 7ms/step - loss: 0.2070 - recall: 0.9601 - precision: 0.3605 - val_loss: 0.1895 - val_recall: 0.9876 - val_precision: 0.4240\n",
      "Epoch 30/60\n",
      "165/165 [==============================] - 1s 6ms/step - loss: 0.1976 - recall: 0.9569 - precision: 0.3751 - val_loss: 0.1788 - val_recall: 0.9876 - val_precision: 0.4321\n",
      "Epoch 31/60\n",
      "165/165 [==============================] - 1s 8ms/step - loss: 0.2027 - recall: 0.9569 - precision: 0.3646 - val_loss: 0.1739 - val_recall: 0.9876 - val_precision: 0.4429\n",
      "Epoch 32/60\n",
      "165/165 [==============================] - 1s 7ms/step - loss: 0.2014 - recall: 0.9457 - precision: 0.3672 - val_loss: 0.1759 - val_recall: 0.9876 - val_precision: 0.4404\n",
      "Epoch 33/60\n",
      "165/165 [==============================] - 1s 7ms/step - loss: 0.2001 - recall: 0.9553 - precision: 0.3700 - val_loss: 0.1791 - val_recall: 0.9876 - val_precision: 0.4332\n",
      "Epoch 34/60\n",
      "165/165 [==============================] - 1s 7ms/step - loss: 0.1932 - recall: 0.9633 - precision: 0.3771 - val_loss: 0.1772 - val_recall: 0.9876 - val_precision: 0.4356\n",
      "Epoch 35/60\n",
      "165/165 [==============================] - 1s 7ms/step - loss: 0.1953 - recall: 0.9505 - precision: 0.3759 - val_loss: 0.1806 - val_recall: 0.9876 - val_precision: 0.4297\n",
      "Epoch 36/60\n",
      "165/165 [==============================] - 1s 7ms/step - loss: 0.1990 - recall: 0.9537 - precision: 0.3727 - val_loss: 0.1730 - val_recall: 0.9876 - val_precision: 0.4392\n",
      "Epoch 37/60\n",
      "165/165 [==============================] - 1s 7ms/step - loss: 0.1881 - recall: 0.9649 - precision: 0.3799 - val_loss: 0.1726 - val_recall: 0.9876 - val_precision: 0.4368\n",
      "Epoch 38/60\n",
      "165/165 [==============================] - 1s 7ms/step - loss: 0.1914 - recall: 0.9585 - precision: 0.3771 - val_loss: 0.1737 - val_recall: 0.9876 - val_precision: 0.4380\n",
      "Epoch 39/60\n",
      "165/165 [==============================] - 1s 6ms/step - loss: 0.1874 - recall: 0.9569 - precision: 0.3774 - val_loss: 0.1618 - val_recall: 0.9876 - val_precision: 0.4479\n",
      "Epoch 40/60\n",
      "165/165 [==============================] - 1s 7ms/step - loss: 0.1834 - recall: 0.9601 - precision: 0.3789 - val_loss: 0.1711 - val_recall: 0.9876 - val_precision: 0.4368\n",
      "Epoch 41/60\n",
      "165/165 [==============================] - 1s 7ms/step - loss: 0.1922 - recall: 0.9457 - precision: 0.3744 - val_loss: 0.1721 - val_recall: 0.9876 - val_precision: 0.4368\n",
      "Epoch 42/60\n",
      "165/165 [==============================] - 1s 7ms/step - loss: 0.1919 - recall: 0.9633 - precision: 0.3821 - val_loss: 0.1653 - val_recall: 0.9876 - val_precision: 0.4404\n",
      "Epoch 43/60\n",
      "165/165 [==============================] - 1s 7ms/step - loss: 0.1790 - recall: 0.9617 - precision: 0.3817 - val_loss: 0.1660 - val_recall: 0.9876 - val_precision: 0.4429\n",
      "Epoch 44/60\n",
      "165/165 [==============================] - 1s 6ms/step - loss: 0.1867 - recall: 0.9537 - precision: 0.3827 - val_loss: 0.1561 - val_recall: 0.9876 - val_precision: 0.4492\n",
      "Epoch 45/60\n",
      "165/165 [==============================] - 1s 7ms/step - loss: 0.1796 - recall: 0.9696 - precision: 0.3874 - val_loss: 0.1582 - val_recall: 0.9876 - val_precision: 0.4504\n"
     ]
    },
    {
     "name": "stdout",
     "output_type": "stream",
     "text": [
      "Epoch 46/60\n",
      "165/165 [==============================] - 1s 6ms/step - loss: 0.1774 - recall: 0.9681 - precision: 0.3900 - val_loss: 0.1549 - val_recall: 0.9876 - val_precision: 0.4492\n",
      "Epoch 47/60\n",
      "165/165 [==============================] - 1s 7ms/step - loss: 0.1920 - recall: 0.9473 - precision: 0.3826 - val_loss: 0.1596 - val_recall: 0.9876 - val_precision: 0.4479\n",
      "Epoch 48/60\n",
      "165/165 [==============================] - 1s 6ms/step - loss: 0.1834 - recall: 0.9585 - precision: 0.3797 - val_loss: 0.1550 - val_recall: 0.9876 - val_precision: 0.4530\n",
      "Epoch 49/60\n",
      "165/165 [==============================] - 1s 8ms/step - loss: 0.1865 - recall: 0.9601 - precision: 0.3735 - val_loss: 0.1551 - val_recall: 0.9876 - val_precision: 0.4517\n",
      "Epoch 50/60\n",
      "165/165 [==============================] - 1s 7ms/step - loss: 0.1809 - recall: 0.9505 - precision: 0.3829 - val_loss: 0.1556 - val_recall: 0.9876 - val_precision: 0.4543\n",
      "Epoch 51/60\n",
      "165/165 [==============================] - 1s 7ms/step - loss: 0.1856 - recall: 0.9601 - precision: 0.3804 - val_loss: 0.1575 - val_recall: 0.9876 - val_precision: 0.4492\n",
      "Epoch 52/60\n",
      "165/165 [==============================] - 1s 8ms/step - loss: 0.1872 - recall: 0.9553 - precision: 0.3826 - val_loss: 0.1621 - val_recall: 0.9876 - val_precision: 0.4404\n",
      "Epoch 53/60\n",
      "165/165 [==============================] - 1s 7ms/step - loss: 0.1780 - recall: 0.9633 - precision: 0.3851 - val_loss: 0.1488 - val_recall: 0.9876 - val_precision: 0.4569\n",
      "Epoch 54/60\n",
      "165/165 [==============================] - 1s 7ms/step - loss: 0.1817 - recall: 0.9569 - precision: 0.3782 - val_loss: 0.1524 - val_recall: 0.9876 - val_precision: 0.4504\n",
      "Epoch 55/60\n",
      "165/165 [==============================] - 1s 8ms/step - loss: 0.1733 - recall: 0.9696 - precision: 0.3834 - val_loss: 0.1511 - val_recall: 0.9876 - val_precision: 0.4556\n",
      "Epoch 56/60\n",
      "165/165 [==============================] - 1s 8ms/step - loss: 0.1805 - recall: 0.9585 - precision: 0.3839 - val_loss: 0.1591 - val_recall: 0.9876 - val_precision: 0.4417\n",
      "Epoch 57/60\n",
      "165/165 [==============================] - 1s 7ms/step - loss: 0.1685 - recall: 0.9681 - precision: 0.3892 - val_loss: 0.1506 - val_recall: 0.9876 - val_precision: 0.4582\n",
      "Epoch 58/60\n",
      "165/165 [==============================] - 1s 8ms/step - loss: 0.1748 - recall: 0.9681 - precision: 0.3917 - val_loss: 0.1563 - val_recall: 0.9876 - val_precision: 0.4479\n",
      "Epoch 59/60\n",
      "165/165 [==============================] - 1s 7ms/step - loss: 0.1687 - recall: 0.9617 - precision: 0.4000 - val_loss: 0.1474 - val_recall: 0.9876 - val_precision: 0.4582\n",
      "Epoch 60/60\n",
      "165/165 [==============================] - 1s 8ms/step - loss: 0.1682 - recall: 0.9760 - precision: 0.4030 - val_loss: 0.1468 - val_recall: 0.9876 - val_precision: 0.4556\n"
     ]
    }
   ],
   "source": [
    "model.compile(optimizer=optimizers.Adam(0.0001),loss=\"binary_crossentropy\",metrics=[metrics.Recall(),metrics.Precision()])\n",
    "history = model.fit(x_train,y_train,validation_data=(x_val,y_val),batch_size=64,epochs=60,class_weight=class_weights)"
   ]
  },
  {
   "cell_type": "code",
   "execution_count": 41,
   "id": "9eab6529",
   "metadata": {},
   "outputs": [
    {
     "data": {
      "image/png": "[encoded data removed]",
      "text/plain": [
       "<Figure size 1800x600 with 2 Axes>"
      ]
     },
     "metadata": {},
     "output_type": "display_data"
    }
   ],
   "source": [
    "grafik_ciz(history.history,\"Train-Validation Grafikleri\")"
   ]
  },
  {
   "cell_type": "markdown",
   "id": "cded0226",
   "metadata": {},
   "source": [
    "### Lineer SVM"
   ]
  },
  {
   "cell_type": "code",
   "execution_count": 42,
   "id": "bf206666",
   "metadata": {},
   "outputs": [
    {
     "name": "stdout",
     "output_type": "stream",
     "text": [
      "Precision = 0.4984\n",
      "Recal = 0.9814\n",
      "Accuracy = 0.9402\n",
      "F1 Score = 0.6611\n"
     ]
    },
    {
     "data": {
      "text/plain": [
       "SVC(class_weight={0: 0.5315874457563831, 1: 8.414536741214057}, kernel='linear',\n",
       "    probability=True, random_state=42)"
      ]
     },
     "execution_count": 42,
     "metadata": {},
     "output_type": "execute_result"
    },
    {
     "data": {
      "image/png": "[encoded data removed]",
      "text/plain": [
       "<Figure size 640x480 with 2 Axes>"
      ]
     },
     "metadata": {},
     "output_type": "display_data"
    }
   ],
   "source": [
    "egit_ve_test_et(SVC(random_state=random_state,class_weight=class_weights,kernel=\"linear\",probability=True),(x_train,y_train.Buzlanma),(x_val,y_val.Buzlanma))"
   ]
  },
  {
   "cell_type": "markdown",
   "id": "018e41f5",
   "metadata": {},
   "source": [
    "### SVM-Kernel Trick(RBF)"
   ]
  },
  {
   "cell_type": "code",
   "execution_count": 43,
   "id": "12e13d3a",
   "metadata": {},
   "outputs": [
    {
     "name": "stdout",
     "output_type": "stream",
     "text": [
      "Precision = 0.588\n",
      "Recal = 0.913\n",
      "Accuracy = 0.9568\n",
      "F1 Score = 0.7153\n"
     ]
    },
    {
     "data": {
      "text/plain": [
       "SVC(class_weight={0: 0.5315874457563831, 1: 8.414536741214057},\n",
       "    probability=True, random_state=42)"
      ]
     },
     "execution_count": 43,
     "metadata": {},
     "output_type": "execute_result"
    },
    {
     "data": {
      "image/png": "[encoded data removed]",
      "text/plain": [
       "<Figure size 640x480 with 2 Axes>"
      ]
     },
     "metadata": {},
     "output_type": "display_data"
    }
   ],
   "source": [
    "egit_ve_test_et(SVC(random_state=random_state,class_weight=class_weights,probability=True),(x_train,y_train.Buzlanma),(x_val,y_val.Buzlanma))"
   ]
  },
  {
   "cell_type": "markdown",
   "id": "0373f7c4",
   "metadata": {},
   "source": [
    "## Makine öğrenme algoritmasının seçimi ve metrikler\n",
    "\n",
    "<ol>\n",
    "  <li>Önişleme sonrası makine öğrenmesi algoritmasına vermek için hazır olan verisetiyle Logistic Regression, Decision Tree, Random Forest, GBM, SVM(Lineer ve RBF) modelleri eğitildi. Bu algoritmalardan en iyi sonucu veren GBM algoritması olduğu için kullanılacak algoritma olarak GBM seçildi. Fakat Sklearn'de bulunan GBM implemantasyonunda dengesiz dağılmış verisetlerini, dengeli bir şekilde eğitmek için bir parametre(class_weights gibi) bulunmadığı için bir GBM algoritmasının daha hızlı ve başarılı bir versiyonu olan ve farklı bir kütüphanede bulunan LightGBM projede kullanılacak model olarak seçildi.</li>\n",
    "  <li>Veriseti dengesiz olduğu için model seçiminde ve başarımı ölçmek için Recall, Precision ve F1 Score metriklerine bakıldı. Ana hedefim Recall skorunu olabildiğince yüksek tutmak ama Precision değerini de belli bir sınırın altına düşürmemek oldu. Daha gündelik hayattan düşünürsek: buzlanmanın olacağı bir günü buzlanma yok şeklinde tahmin etmemiz, buzlanmanın olmayacağı bir günü buzlanma olacak şeklinde tahmin etmemizden çok daha kötü sonuçlar doğurabilir. Bu yüzden Recall değerini olabildiğince yüksek tutarak, gerçekte buzlanmanın olduğu günleri yüksek bir doğrulukla tahmin etmeyi birinci hedef olarak belirledim. Öte yandan gerçekte buzlanma olmayan bir gün için sürekli insanlara buzlanma olacak uyarası yaparak(Precision değerini çok düşük tutmak) onların güvenini kaybetmek gibi bir durumla karşılaşmamak için Precision değerini çok düşük tutmamaya çalıştım.</li>\n",
    "  <li>Sklearnda bulunan GBM algoritmasının çıktılarına bir ağırlıklandırma yaparak(az sayıda bulunan sınıfın çıktısını birden büyük bir sayıyla çarpmak) da istenilen performansa yakın sonuçlar elde etsem de hem dengesiz verisetleri ile direkt olarak eğitim esnasında başa çıkabilen hem de daha hızlı olan LightGBM algoritmasını kullanmayı daha uygun gördüm.</li>\n",
    "</ol>"
   ]
  },
  {
   "cell_type": "markdown",
   "id": "a355cf4b",
   "metadata": {},
   "source": [
    "# Hyperparameter Tuning"
   ]
  },
  {
   "cell_type": "code",
   "execution_count": 44,
   "id": "9c102ad0",
   "metadata": {},
   "outputs": [],
   "source": [
    "from sklearn.experimental import enable_halving_search_cv\n",
    "from sklearn.model_selection import HalvingGridSearchCV\n",
    "from sklearn.model_selection import GridSearchCV\n",
    "from sklearn.model_selection import PredefinedSplit\n",
    "from sklearn.metrics import make_scorer\n",
    "\n",
    "def display(results):\n",
    "    print(f'Best parameters are: {results.best_params_}')\n",
    "    print(\"\\n\")\n",
    "    mean_score = results.cv_results_['mean_test_score']\n",
    "    std_score = results.cv_results_['std_test_score']\n",
    "    params = results.cv_results_['params']\n",
    "    for mean,std,params in zip(mean_score,std_score,params):\n",
    "        print(f'{round(mean,3)} + or -{round(std,3)} for the {params}')"
   ]
  },
  {
   "cell_type": "code",
   "execution_count": 45,
   "id": "ba747396",
   "metadata": {
    "scrolled": true
   },
   "outputs": [
    {
     "name": "stdout",
     "output_type": "stream",
     "text": [
      "Best parameters are: {'learning_rate': 0.1, 'max_depth': 5, 'n_estimators': 100}\n",
      "\n",
      "\n",
      "0.0 + or -0.0 for the {'learning_rate': 0.01, 'max_depth': 1, 'n_estimators': 5}\n",
      "0.0 + or -0.0 for the {'learning_rate': 0.01, 'max_depth': 1, 'n_estimators': 50}\n",
      "0.109 + or -0.189 for the {'learning_rate': 0.01, 'max_depth': 1, 'n_estimators': 100}\n",
      "0.0 + or -0.0 for the {'learning_rate': 0.01, 'max_depth': 3, 'n_estimators': 5}\n",
      "0.0 + or -0.0 for the {'learning_rate': 0.01, 'max_depth': 3, 'n_estimators': 50}\n",
      "0.463 + or -0.033 for the {'learning_rate': 0.01, 'max_depth': 3, 'n_estimators': 100}\n",
      "0.0 + or -0.0 for the {'learning_rate': 0.01, 'max_depth': 5, 'n_estimators': 5}\n",
      "0.0 + or -0.0 for the {'learning_rate': 0.01, 'max_depth': 5, 'n_estimators': 50}\n",
      "0.527 + or -0.031 for the {'learning_rate': 0.01, 'max_depth': 5, 'n_estimators': 100}\n",
      "0.0 + or -0.0 for the {'learning_rate': 0.01, 'max_depth': 7, 'n_estimators': 5}\n",
      "0.0 + or -0.0 for the {'learning_rate': 0.01, 'max_depth': 7, 'n_estimators': 50}\n",
      "0.585 + or -0.031 for the {'learning_rate': 0.01, 'max_depth': 7, 'n_estimators': 100}\n",
      "0.0 + or -0.0 for the {'learning_rate': 0.1, 'max_depth': 1, 'n_estimators': 5}\n",
      "0.735 + or -0.022 for the {'learning_rate': 0.1, 'max_depth': 1, 'n_estimators': 50}\n",
      "0.74 + or -0.025 for the {'learning_rate': 0.1, 'max_depth': 1, 'n_estimators': 100}\n",
      "0.337 + or -0.049 for the {'learning_rate': 0.1, 'max_depth': 3, 'n_estimators': 5}\n",
      "0.752 + or -0.051 for the {'learning_rate': 0.1, 'max_depth': 3, 'n_estimators': 50}\n",
      "0.759 + or -0.048 for the {'learning_rate': 0.1, 'max_depth': 3, 'n_estimators': 100}\n",
      "0.327 + or -0.056 for the {'learning_rate': 0.1, 'max_depth': 5, 'n_estimators': 5}\n",
      "0.757 + or -0.047 for the {'learning_rate': 0.1, 'max_depth': 5, 'n_estimators': 50}\n",
      "0.767 + or -0.041 for the {'learning_rate': 0.1, 'max_depth': 5, 'n_estimators': 100}\n",
      "0.372 + or -0.036 for the {'learning_rate': 0.1, 'max_depth': 7, 'n_estimators': 5}\n",
      "0.748 + or -0.031 for the {'learning_rate': 0.1, 'max_depth': 7, 'n_estimators': 50}\n",
      "0.762 + or -0.035 for the {'learning_rate': 0.1, 'max_depth': 7, 'n_estimators': 100}\n",
      "0.0 + or -0.0 for the {'learning_rate': 1, 'max_depth': 1, 'n_estimators': 5}\n",
      "0.0 + or -0.0 for the {'learning_rate': 1, 'max_depth': 1, 'n_estimators': 50}\n",
      "0.0 + or -0.0 for the {'learning_rate': 1, 'max_depth': 1, 'n_estimators': 100}\n",
      "0.399 + or -0.377 for the {'learning_rate': 1, 'max_depth': 3, 'n_estimators': 5}\n",
      "0.278 + or -0.237 for the {'learning_rate': 1, 'max_depth': 3, 'n_estimators': 50}\n",
      "0.275 + or -0.243 for the {'learning_rate': 1, 'max_depth': 3, 'n_estimators': 100}\n",
      "0.578 + or -0.225 for the {'learning_rate': 1, 'max_depth': 5, 'n_estimators': 5}\n",
      "0.519 + or -0.203 for the {'learning_rate': 1, 'max_depth': 5, 'n_estimators': 50}\n",
      "0.519 + or -0.201 for the {'learning_rate': 1, 'max_depth': 5, 'n_estimators': 100}\n",
      "0.728 + or -0.065 for the {'learning_rate': 1, 'max_depth': 7, 'n_estimators': 5}\n",
      "0.548 + or -0.223 for the {'learning_rate': 1, 'max_depth': 7, 'n_estimators': 50}\n",
      "0.55 + or -0.224 for the {'learning_rate': 1, 'max_depth': 7, 'n_estimators': 100}\n"
     ]
    }
   ],
   "source": [
    "gbc = GradientBoostingClassifier(random_state=random_state)\n",
    "parameters = {\n",
    "    \"n_estimators\":[5,50,100],\n",
    "    \"max_depth\":[1,3,5,7],\n",
    "    \"learning_rate\":[0.01,0.1,1]\n",
    "}\n",
    "cv = GridSearchCV(gbc,parameters,cv=4,n_jobs=-1,scoring=\"recall\")\n",
    "cv.fit(x_train,y_train.Buzlanma)\n",
    "\n",
    "display(cv)"
   ]
  },
  {
   "cell_type": "markdown",
   "id": "2f410ee5",
   "metadata": {},
   "source": [
    "En iyi parametreler 'learning_rate': 0.1, 'max_depth': 7, 'n_estimators': 100 olarak bulundu"
   ]
  },
  {
   "cell_type": "code",
   "execution_count": 46,
   "id": "d5a74863",
   "metadata": {},
   "outputs": [
    {
     "data": {
      "image/png": "[encoded data removed]",
      "text/plain": [
       "<Figure size 640x480 with 2 Axes>"
      ]
     },
     "metadata": {},
     "output_type": "display_data"
    },
    {
     "name": "stdout",
     "output_type": "stream",
     "text": [
      "Accuracy Validation= 0.9782207456626061\n",
      "Precision Validation= 0.84\n",
      "Recall Validation= 0.782608695652174\n",
      "F1 Validation= 0.8102893890675241\n"
     ]
    }
   ],
   "source": [
    "gbc = cv.best_estimator_\n",
    "\n",
    "#tah = gbc.predict_proba(x_val)\n",
    "#tah[:,1] = tah[:,1]*3\n",
    "\n",
    "show_cf_for_lgbm(gbc,x_val,y_val,\"Validation Dataset\")\n",
    "metrikleri_goster(gbc,x_val,y_val,\"Validation\")"
   ]
  },
  {
   "cell_type": "markdown",
   "id": "1ce11e9c",
   "metadata": {},
   "source": [
    "## Ana modelin eğitilmesi ve test edilmesi"
   ]
  },
  {
   "cell_type": "code",
   "execution_count": 47,
   "id": "c384c1e5",
   "metadata": {},
   "outputs": [],
   "source": [
    "clf = lgb.LGBMClassifier(max_depth=7,n_estimators=100,objective='binary',\n",
    "                         is_unbalance=True,learning_rate=0.1,metrics=\"auc\")"
   ]
  },
  {
   "cell_type": "code",
   "execution_count": 48,
   "id": "30f3ea24",
   "metadata": {},
   "outputs": [
    {
     "data": {
      "text/plain": [
       "LGBMClassifier(is_unbalance=True, max_depth=7, metrics='auc',\n",
       "               objective='binary')"
      ]
     },
     "execution_count": 48,
     "metadata": {},
     "output_type": "execute_result"
    }
   ],
   "source": [
    "clf.fit(x_train,y_train.Buzlanma)"
   ]
  },
  {
   "cell_type": "code",
   "execution_count": 49,
   "id": "2761a324",
   "metadata": {},
   "outputs": [
    {
     "data": {
      "image/png": "[encoded data removed]",
      "text/plain": [
       "<Figure size 640x480 with 2 Axes>"
      ]
     },
     "metadata": {},
     "output_type": "display_data"
    },
    {
     "name": "stdout",
     "output_type": "stream",
     "text": [
      "Accuracy Train= 0.9940199335548173\n",
      "Precision Train= 0.9085631349782293\n",
      "Recall Train= 1.0\n",
      "F1 Train= 0.9520912547528517\n"
     ]
    }
   ],
   "source": [
    "show_cf_for_lgbm(clf,x_train,y_train,\"Train Dataset\")\n",
    "metrikleri_goster(clf,x_train,y_train,\"Train\")"
   ]
  },
  {
   "cell_type": "code",
   "execution_count": 50,
   "id": "7f62a4e1",
   "metadata": {},
   "outputs": [
    {
     "data": {
      "image/png": "[encoded data removed]",
      "text/plain": [
       "<Figure size 640x480 with 2 Axes>"
      ]
     },
     "metadata": {},
     "output_type": "display_data"
    },
    {
     "name": "stdout",
     "output_type": "stream",
     "text": [
      "Accuracy Validation= 0.9741602067183462\n",
      "Precision Validation= 0.7357512953367875\n",
      "Recall Validation= 0.8819875776397516\n",
      "F1 Validation= 0.8022598870056497\n"
     ]
    }
   ],
   "source": [
    "show_cf_for_lgbm(clf,x_val,y_val,\"Validation Dataset\")\n",
    "metrikleri_goster(clf,x_val,y_val,\"Validation\")"
   ]
  },
  {
   "cell_type": "code",
   "execution_count": 51,
   "id": "16166aa6",
   "metadata": {},
   "outputs": [
    {
     "data": {
      "image/png": "[encoded data removed]",
      "text/plain": [
       "<Figure size 640x480 with 2 Axes>"
      ]
     },
     "metadata": {},
     "output_type": "display_data"
    },
    {
     "name": "stdout",
     "output_type": "stream",
     "text": [
      "Accuracy Test= 0.9717607973421927\n",
      "Precision Test= 0.7153846153846154\n",
      "Recall Test= 0.8691588785046729\n",
      "F1 Test= 0.7848101265822786\n"
     ]
    }
   ],
   "source": [
    "show_cf_for_lgbm(clf,x_test,y_test,\"Test Dataset\")\n",
    "metrikleri_goster(clf,x_test,y_test,\"Test\")"
   ]
  },
  {
   "cell_type": "code",
   "execution_count": 52,
   "id": "c6d34b82",
   "metadata": {},
   "outputs": [
    {
     "data": {
      "text/plain": [
       "['lgbm.pkl']"
      ]
     },
     "execution_count": 52,
     "metadata": {},
     "output_type": "execute_result"
    }
   ],
   "source": [
    "#modeli kaydet\n",
    "joblib.dump(clf,\"lgbm.pkl\")"
   ]
  },
  {
   "cell_type": "markdown",
   "id": "51cbff81",
   "metadata": {},
   "source": [
    "## Hiperparametre Seçimi ve Sonuçlar\n",
    "\n",
    "<ol>\n",
    "  <li>Projede LightGBM algoritmasını kullanmaya karar verdim. Farklı bir notebookta bu algoritmaya Sklearn kütüphanesinde bulunan GridSearchCv modülü ile uygun hiperparametreleri aradım. Fakat daha öncesinde Sklearn'de bulunan GBM algoritmasına seçtiğim parametrelerin LightGBM'de istediğim sonuçlar verdiğini farkedince LightGBM için GridSearch işlemini yapmayı kestim ve bu parametreleri LightGBM algoritmasında kullandım.</li>\n",
    "  <li>Train, validation ve test veri kümelerini incelediğimizde modelimizin train verisetine bir miktar aşırı uydurduğunu söylebiliriz. Bunu önlemek için modelin hiperparametreleri değiştirilebilirdi fakat çok önemli bir overtitting olmadığı için bunları denemedim. Bunun yanında tüm algoritma, feature ve hiperparametre seçimleri validation seti üzerinden yapıldığı göz önüne alındığında validation ve test seti arasındaki düşük miktardaki başarım farkı(bilgi kaçağı) normaldir.</li>\n",
    "  <li>Recall ve Precision arasında takas yapmak için modele verilen girdilerin olasalıklarına farklı thresholdlar uygulunabilir.(örneğin \"Buzlanma var\" için olasılık değeri 0.3'den büyükse çıktıyı \"Buzlanma var\" olarak belirlenebilir.)</li>\n",
    "</ol>"
   ]
  }
 ],
 "metadata": {
  "kernelspec": {
   "display_name": "Python 3 (ipykernel)",
   "language": "python",
   "name": "python3"
  },
  "language_info": {
   "codemirror_mode": {
    "name": "ipython",
    "version": 3
   },
   "file_extension": ".py",
   "mimetype": "text/x-python",
   "name": "python",
   "nbconvert_exporter": "python",
   "pygments_lexer": "ipython3",
   "version": "3.9.13"
  }
 },
 "nbformat": 4,
 "nbformat_minor": 5
}
